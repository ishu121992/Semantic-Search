{
  "nbformat": 4,
  "nbformat_minor": 0,
  "metadata": {
    "colab": {
      "provenance": [],
      "gpuType": "T4",
      "mount_file_id": "1oPYOdx__58kGtQb5tYow0hrIkhNo8PRT",
      "authorship_tag": "ABX9TyOcTp4I68SXtngz2x4Q+/kC",
      "include_colab_link": true
    },
    "kernelspec": {
      "name": "python3",
      "display_name": "Python 3"
    },
    "language_info": {
      "name": "python"
    },
    "accelerator": "GPU",
    "gpuClass": "standard"
  },
  "cells": [
    {
      "cell_type": "markdown",
      "metadata": {
        "id": "view-in-github",
        "colab_type": "text"
      },
      "source": [
        "<a href=\"https://colab.research.google.com/github/ishu121992/Semantic-Search/blob/main/semantics.ipynb\" target=\"_parent\"><img src=\"https://colab.research.google.com/assets/colab-badge.svg\" alt=\"Open In Colab\"/></a>"
      ]
    },
    {
      "cell_type": "code",
      "source": [
        "! pip install pandas numpy nltk chromadb tqdm sentence-transformers torch torchvision"
      ],
      "metadata": {
        "id": "6o9YL1TRYf_Z"
      },
      "execution_count": null,
      "outputs": []
    },
    {
      "cell_type": "code",
      "source": [
        "import pandas as pd\n",
        "import numpy as np\n",
        "from sentence_transformers import SentenceTransformer\n",
        "from nltk import sent_tokenize, word_tokenize\n",
        "import chromadb\n",
        "from chromadb.utils import embedding_functions\n",
        "from tqdm import tqdm\n",
        "import torch"
      ],
      "metadata": {
        "id": "_V9wa2kQYZ3u"
      },
      "execution_count": 20,
      "outputs": []
    },
    {
      "cell_type": "code",
      "source": [
        "model = SentenceTransformer('all-MiniLM-L6-v2')"
      ],
      "metadata": {
        "id": "D43yj_6CZFhL"
      },
      "execution_count": 18,
      "outputs": []
    },
    {
      "cell_type": "code",
      "source": [
        "from chromadb.config import Settings\n",
        "client = chromadb.Client(Settings(\n",
        "    chroma_db_impl=\"duckdb+parquet\",\n",
        "    persist_directory=\"embedDB\" # Optional, defaults to .chromadb/ in the current directory\n",
        "))"
      ],
      "metadata": {
        "colab": {
          "base_uri": "https://localhost:8080/"
        },
        "id": "m02BKuo5Z073",
        "outputId": "55ef5384-8eea-446b-9f12-237ba05e21dc"
      },
      "execution_count": 5,
      "outputs": [
        {
          "output_type": "stream",
          "name": "stderr",
          "text": [
            "WARNING:chromadb:Using embedded DuckDB with persistence: data will be stored in: embedDB\n"
          ]
        }
      ]
    },
    {
      "cell_type": "code",
      "source": [],
      "metadata": {
        "id": "301NQ3HLaE8P"
      },
      "execution_count": null,
      "outputs": []
    },
    {
      "cell_type": "code",
      "source": [
        "# Reading prepared csv\n",
        "df = pd.read_csv('/content/drive/MyDrive/BlackBox/testdata.csv', engine='c', escapechar='\\\\')"
      ],
      "metadata": {
        "id": "d9eXgBRXbwtY"
      },
      "execution_count": 19,
      "outputs": []
    },
    {
      "cell_type": "code",
      "source": [
        "df.shape"
      ],
      "metadata": {
        "colab": {
          "base_uri": "https://localhost:8080/"
        },
        "id": "0nhjugZBb1E5",
        "outputId": "69d65fcc-60e1-4716-e912-03a32f51631c"
      },
      "execution_count": 11,
      "outputs": [
        {
          "output_type": "execute_result",
          "data": {
            "text/plain": [
              "(81450, 3)"
            ]
          },
          "metadata": {},
          "execution_count": 11
        }
      ]
    },
    {
      "cell_type": "code",
      "source": [
        "df.head()"
      ],
      "metadata": {
        "id": "k8W6ouIecnzL",
        "colab": {
          "base_uri": "https://localhost:8080/",
          "height": 374
        },
        "outputId": "38375678-57b0-4e54-f3f3-12e56a14c38a"
      },
      "execution_count": 12,
      "outputs": [
        {
          "output_type": "execute_result",
          "data": {
            "text/plain": [
              "                                       title  \\\n",
              "0  0001011920002174088_01122021_02012021.PDF   \n",
              "1  0001011920002174088_01122021_02012021.PDF   \n",
              "2  0001011920002174088_01122021_02012021.PDF   \n",
              "3  0001011920002174088_01122021_02012021.PDF   \n",
              "4  0001011920002174088_01122021_02012021.PDF   \n",
              "\n",
              "                                                text  \\\n",
              "0  In  case you wish to update the personal detai...   \n",
              "1          Address :H.N. 31-A MAHADEV JHARKHANDI TU.   \n",
              "2                                       1 POLICESTN.   \n",
              "3  CANTT DT - GORAKHPURGORAKHPUR-273008 UP00GST N...   \n",
              "4  Pleaseensure that at least the \"Minimum Amount...   \n",
              "\n",
              "                                                path  \n",
              "0  C:\\Users\\mishr\\OneDrive\\Desktop\\Learning\\FastA...  \n",
              "1  C:\\Users\\mishr\\OneDrive\\Desktop\\Learning\\FastA...  \n",
              "2  C:\\Users\\mishr\\OneDrive\\Desktop\\Learning\\FastA...  \n",
              "3  C:\\Users\\mishr\\OneDrive\\Desktop\\Learning\\FastA...  \n",
              "4  C:\\Users\\mishr\\OneDrive\\Desktop\\Learning\\FastA...  "
            ],
            "text/html": [
              "\n",
              "  <div id=\"df-0eb7d116-c1d7-4a37-9473-1b938d673bb8\">\n",
              "    <div class=\"colab-df-container\">\n",
              "      <div>\n",
              "<style scoped>\n",
              "    .dataframe tbody tr th:only-of-type {\n",
              "        vertical-align: middle;\n",
              "    }\n",
              "\n",
              "    .dataframe tbody tr th {\n",
              "        vertical-align: top;\n",
              "    }\n",
              "\n",
              "    .dataframe thead th {\n",
              "        text-align: right;\n",
              "    }\n",
              "</style>\n",
              "<table border=\"1\" class=\"dataframe\">\n",
              "  <thead>\n",
              "    <tr style=\"text-align: right;\">\n",
              "      <th></th>\n",
              "      <th>title</th>\n",
              "      <th>text</th>\n",
              "      <th>path</th>\n",
              "    </tr>\n",
              "  </thead>\n",
              "  <tbody>\n",
              "    <tr>\n",
              "      <th>0</th>\n",
              "      <td>0001011920002174088_01122021_02012021.PDF</td>\n",
              "      <td>In  case you wish to update the personal detai...</td>\n",
              "      <td>C:\\Users\\mishr\\OneDrive\\Desktop\\Learning\\FastA...</td>\n",
              "    </tr>\n",
              "    <tr>\n",
              "      <th>1</th>\n",
              "      <td>0001011920002174088_01122021_02012021.PDF</td>\n",
              "      <td>Address :H.N. 31-A MAHADEV JHARKHANDI TU.</td>\n",
              "      <td>C:\\Users\\mishr\\OneDrive\\Desktop\\Learning\\FastA...</td>\n",
              "    </tr>\n",
              "    <tr>\n",
              "      <th>2</th>\n",
              "      <td>0001011920002174088_01122021_02012021.PDF</td>\n",
              "      <td>1 POLICESTN.</td>\n",
              "      <td>C:\\Users\\mishr\\OneDrive\\Desktop\\Learning\\FastA...</td>\n",
              "    </tr>\n",
              "    <tr>\n",
              "      <th>3</th>\n",
              "      <td>0001011920002174088_01122021_02012021.PDF</td>\n",
              "      <td>CANTT DT - GORAKHPURGORAKHPUR-273008 UP00GST N...</td>\n",
              "      <td>C:\\Users\\mishr\\OneDrive\\Desktop\\Learning\\FastA...</td>\n",
              "    </tr>\n",
              "    <tr>\n",
              "      <th>4</th>\n",
              "      <td>0001011920002174088_01122021_02012021.PDF</td>\n",
              "      <td>Pleaseensure that at least the \"Minimum Amount...</td>\n",
              "      <td>C:\\Users\\mishr\\OneDrive\\Desktop\\Learning\\FastA...</td>\n",
              "    </tr>\n",
              "  </tbody>\n",
              "</table>\n",
              "</div>\n",
              "      <button class=\"colab-df-convert\" onclick=\"convertToInteractive('df-0eb7d116-c1d7-4a37-9473-1b938d673bb8')\"\n",
              "              title=\"Convert this dataframe to an interactive table.\"\n",
              "              style=\"display:none;\">\n",
              "        \n",
              "  <svg xmlns=\"http://www.w3.org/2000/svg\" height=\"24px\"viewBox=\"0 0 24 24\"\n",
              "       width=\"24px\">\n",
              "    <path d=\"M0 0h24v24H0V0z\" fill=\"none\"/>\n",
              "    <path d=\"M18.56 5.44l.94 2.06.94-2.06 2.06-.94-2.06-.94-.94-2.06-.94 2.06-2.06.94zm-11 1L8.5 8.5l.94-2.06 2.06-.94-2.06-.94L8.5 2.5l-.94 2.06-2.06.94zm10 10l.94 2.06.94-2.06 2.06-.94-2.06-.94-.94-2.06-.94 2.06-2.06.94z\"/><path d=\"M17.41 7.96l-1.37-1.37c-.4-.4-.92-.59-1.43-.59-.52 0-1.04.2-1.43.59L10.3 9.45l-7.72 7.72c-.78.78-.78 2.05 0 2.83L4 21.41c.39.39.9.59 1.41.59.51 0 1.02-.2 1.41-.59l7.78-7.78 2.81-2.81c.8-.78.8-2.07 0-2.86zM5.41 20L4 18.59l7.72-7.72 1.47 1.35L5.41 20z\"/>\n",
              "  </svg>\n",
              "      </button>\n",
              "      \n",
              "  <style>\n",
              "    .colab-df-container {\n",
              "      display:flex;\n",
              "      flex-wrap:wrap;\n",
              "      gap: 12px;\n",
              "    }\n",
              "\n",
              "    .colab-df-convert {\n",
              "      background-color: #E8F0FE;\n",
              "      border: none;\n",
              "      border-radius: 50%;\n",
              "      cursor: pointer;\n",
              "      display: none;\n",
              "      fill: #1967D2;\n",
              "      height: 32px;\n",
              "      padding: 0 0 0 0;\n",
              "      width: 32px;\n",
              "    }\n",
              "\n",
              "    .colab-df-convert:hover {\n",
              "      background-color: #E2EBFA;\n",
              "      box-shadow: 0px 1px 2px rgba(60, 64, 67, 0.3), 0px 1px 3px 1px rgba(60, 64, 67, 0.15);\n",
              "      fill: #174EA6;\n",
              "    }\n",
              "\n",
              "    [theme=dark] .colab-df-convert {\n",
              "      background-color: #3B4455;\n",
              "      fill: #D2E3FC;\n",
              "    }\n",
              "\n",
              "    [theme=dark] .colab-df-convert:hover {\n",
              "      background-color: #434B5C;\n",
              "      box-shadow: 0px 1px 3px 1px rgba(0, 0, 0, 0.15);\n",
              "      filter: drop-shadow(0px 1px 2px rgba(0, 0, 0, 0.3));\n",
              "      fill: #FFFFFF;\n",
              "    }\n",
              "  </style>\n",
              "\n",
              "      <script>\n",
              "        const buttonEl =\n",
              "          document.querySelector('#df-0eb7d116-c1d7-4a37-9473-1b938d673bb8 button.colab-df-convert');\n",
              "        buttonEl.style.display =\n",
              "          google.colab.kernel.accessAllowed ? 'block' : 'none';\n",
              "\n",
              "        async function convertToInteractive(key) {\n",
              "          const element = document.querySelector('#df-0eb7d116-c1d7-4a37-9473-1b938d673bb8');\n",
              "          const dataTable =\n",
              "            await google.colab.kernel.invokeFunction('convertToInteractive',\n",
              "                                                     [key], {});\n",
              "          if (!dataTable) return;\n",
              "\n",
              "          const docLinkHtml = 'Like what you see? Visit the ' +\n",
              "            '<a target=\"_blank\" href=https://colab.research.google.com/notebooks/data_table.ipynb>data table notebook</a>'\n",
              "            + ' to learn more about interactive tables.';\n",
              "          element.innerHTML = '';\n",
              "          dataTable['output_type'] = 'display_data';\n",
              "          await google.colab.output.renderOutput(dataTable, element);\n",
              "          const docLink = document.createElement('div');\n",
              "          docLink.innerHTML = docLinkHtml;\n",
              "          element.appendChild(docLink);\n",
              "        }\n",
              "      </script>\n",
              "    </div>\n",
              "  </div>\n",
              "  "
            ]
          },
          "metadata": {},
          "execution_count": 12
        }
      ]
    },
    {
      "cell_type": "code",
      "source": [
        "sentences = df.text.to_list()"
      ],
      "metadata": {
        "id": "7Vn3_ookoZiu"
      },
      "execution_count": 21,
      "outputs": []
    },
    {
      "cell_type": "code",
      "source": [
        "len(sentences)"
      ],
      "metadata": {
        "colab": {
          "base_uri": "https://localhost:8080/"
        },
        "id": "vV_45dkrod-r",
        "outputId": "a7999a68-9356-404c-9164-ab67dc2cc3df"
      },
      "execution_count": 22,
      "outputs": [
        {
          "output_type": "execute_result",
          "data": {
            "text/plain": [
              "81450"
            ]
          },
          "metadata": {},
          "execution_count": 22
        }
      ]
    },
    {
      "cell_type": "code",
      "source": [
        "with torch.no_grad():\n",
        "    embeddings = model.encode(sentences, device='cuda')"
      ],
      "metadata": {
        "id": "5eZNZIsNoLhJ"
      },
      "execution_count": 23,
      "outputs": []
    },
    {
      "cell_type": "code",
      "source": [
        "len(embeddings)"
      ],
      "metadata": {
        "colab": {
          "base_uri": "https://localhost:8080/"
        },
        "id": "I-9YKmvRmFet",
        "outputId": "ffc85213-4078-4b68-dd60-c64e362f8113"
      },
      "execution_count": 24,
      "outputs": [
        {
          "output_type": "execute_result",
          "data": {
            "text/plain": [
              "81450"
            ]
          },
          "metadata": {},
          "execution_count": 24
        }
      ]
    },
    {
      "cell_type": "code",
      "source": [
        "len(embedding_series_list)"
      ],
      "metadata": {
        "colab": {
          "base_uri": "https://localhost:8080/"
        },
        "id": "slHth5WKpGMw",
        "outputId": "44fae616-f11f-4e77-b7dc-6f7c1555631c"
      },
      "execution_count": 29,
      "outputs": [
        {
          "output_type": "execute_result",
          "data": {
            "text/plain": [
              "81450"
            ]
          },
          "metadata": {},
          "execution_count": 29
        }
      ]
    },
    {
      "cell_type": "code",
      "source": [
        "df['embeddings'] = list(embeddings)"
      ],
      "metadata": {
        "id": "t4lrQoHypm8k"
      },
      "execution_count": 33,
      "outputs": []
    },
    {
      "cell_type": "code",
      "source": [
        "df.head()"
      ],
      "metadata": {
        "colab": {
          "base_uri": "https://localhost:8080/",
          "height": 530
        },
        "id": "ynH3fabYpzTu",
        "outputId": "db43f86d-32f6-40a0-989d-f26891d7c2bc"
      },
      "execution_count": 34,
      "outputs": [
        {
          "output_type": "execute_result",
          "data": {
            "text/plain": [
              "                                       title  \\\n",
              "0  0001011920002174088_01122021_02012021.PDF   \n",
              "1  0001011920002174088_01122021_02012021.PDF   \n",
              "2  0001011920002174088_01122021_02012021.PDF   \n",
              "3  0001011920002174088_01122021_02012021.PDF   \n",
              "4  0001011920002174088_01122021_02012021.PDF   \n",
              "\n",
              "                                                text  \\\n",
              "0  In  case you wish to update the personal detai...   \n",
              "1          Address :H.N. 31-A MAHADEV JHARKHANDI TU.   \n",
              "2                                       1 POLICESTN.   \n",
              "3  CANTT DT - GORAKHPURGORAKHPUR-273008 UP00GST N...   \n",
              "4  Pleaseensure that at least the \"Minimum Amount...   \n",
              "\n",
              "                                                path  \\\n",
              "0  C:\\Users\\mishr\\OneDrive\\Desktop\\Learning\\FastA...   \n",
              "1  C:\\Users\\mishr\\OneDrive\\Desktop\\Learning\\FastA...   \n",
              "2  C:\\Users\\mishr\\OneDrive\\Desktop\\Learning\\FastA...   \n",
              "3  C:\\Users\\mishr\\OneDrive\\Desktop\\Learning\\FastA...   \n",
              "4  C:\\Users\\mishr\\OneDrive\\Desktop\\Learning\\FastA...   \n",
              "\n",
              "                                          embeddings  \n",
              "0  [-0.047489736, 0.013820825, -0.00944892, -0.02...  \n",
              "1  [-0.06960903, 0.069714315, -0.057378452, 0.010...  \n",
              "2  [-0.076337375, -0.00044659118, -0.07685621, -0...  \n",
              "3  [-0.092381895, 0.018006029, -0.044200417, 0.00...  \n",
              "4  [-0.036951825, 0.002992114, 0.06865795, 0.0081...  "
            ],
            "text/html": [
              "\n",
              "  <div id=\"df-8c8cbbdb-e86b-4bd4-b76c-b90cbc25e7dc\">\n",
              "    <div class=\"colab-df-container\">\n",
              "      <div>\n",
              "<style scoped>\n",
              "    .dataframe tbody tr th:only-of-type {\n",
              "        vertical-align: middle;\n",
              "    }\n",
              "\n",
              "    .dataframe tbody tr th {\n",
              "        vertical-align: top;\n",
              "    }\n",
              "\n",
              "    .dataframe thead th {\n",
              "        text-align: right;\n",
              "    }\n",
              "</style>\n",
              "<table border=\"1\" class=\"dataframe\">\n",
              "  <thead>\n",
              "    <tr style=\"text-align: right;\">\n",
              "      <th></th>\n",
              "      <th>title</th>\n",
              "      <th>text</th>\n",
              "      <th>path</th>\n",
              "      <th>embeddings</th>\n",
              "    </tr>\n",
              "  </thead>\n",
              "  <tbody>\n",
              "    <tr>\n",
              "      <th>0</th>\n",
              "      <td>0001011920002174088_01122021_02012021.PDF</td>\n",
              "      <td>In  case you wish to update the personal detai...</td>\n",
              "      <td>C:\\Users\\mishr\\OneDrive\\Desktop\\Learning\\FastA...</td>\n",
              "      <td>[-0.047489736, 0.013820825, -0.00944892, -0.02...</td>\n",
              "    </tr>\n",
              "    <tr>\n",
              "      <th>1</th>\n",
              "      <td>0001011920002174088_01122021_02012021.PDF</td>\n",
              "      <td>Address :H.N. 31-A MAHADEV JHARKHANDI TU.</td>\n",
              "      <td>C:\\Users\\mishr\\OneDrive\\Desktop\\Learning\\FastA...</td>\n",
              "      <td>[-0.06960903, 0.069714315, -0.057378452, 0.010...</td>\n",
              "    </tr>\n",
              "    <tr>\n",
              "      <th>2</th>\n",
              "      <td>0001011920002174088_01122021_02012021.PDF</td>\n",
              "      <td>1 POLICESTN.</td>\n",
              "      <td>C:\\Users\\mishr\\OneDrive\\Desktop\\Learning\\FastA...</td>\n",
              "      <td>[-0.076337375, -0.00044659118, -0.07685621, -0...</td>\n",
              "    </tr>\n",
              "    <tr>\n",
              "      <th>3</th>\n",
              "      <td>0001011920002174088_01122021_02012021.PDF</td>\n",
              "      <td>CANTT DT - GORAKHPURGORAKHPUR-273008 UP00GST N...</td>\n",
              "      <td>C:\\Users\\mishr\\OneDrive\\Desktop\\Learning\\FastA...</td>\n",
              "      <td>[-0.092381895, 0.018006029, -0.044200417, 0.00...</td>\n",
              "    </tr>\n",
              "    <tr>\n",
              "      <th>4</th>\n",
              "      <td>0001011920002174088_01122021_02012021.PDF</td>\n",
              "      <td>Pleaseensure that at least the \"Minimum Amount...</td>\n",
              "      <td>C:\\Users\\mishr\\OneDrive\\Desktop\\Learning\\FastA...</td>\n",
              "      <td>[-0.036951825, 0.002992114, 0.06865795, 0.0081...</td>\n",
              "    </tr>\n",
              "  </tbody>\n",
              "</table>\n",
              "</div>\n",
              "      <button class=\"colab-df-convert\" onclick=\"convertToInteractive('df-8c8cbbdb-e86b-4bd4-b76c-b90cbc25e7dc')\"\n",
              "              title=\"Convert this dataframe to an interactive table.\"\n",
              "              style=\"display:none;\">\n",
              "        \n",
              "  <svg xmlns=\"http://www.w3.org/2000/svg\" height=\"24px\"viewBox=\"0 0 24 24\"\n",
              "       width=\"24px\">\n",
              "    <path d=\"M0 0h24v24H0V0z\" fill=\"none\"/>\n",
              "    <path d=\"M18.56 5.44l.94 2.06.94-2.06 2.06-.94-2.06-.94-.94-2.06-.94 2.06-2.06.94zm-11 1L8.5 8.5l.94-2.06 2.06-.94-2.06-.94L8.5 2.5l-.94 2.06-2.06.94zm10 10l.94 2.06.94-2.06 2.06-.94-2.06-.94-.94-2.06-.94 2.06-2.06.94z\"/><path d=\"M17.41 7.96l-1.37-1.37c-.4-.4-.92-.59-1.43-.59-.52 0-1.04.2-1.43.59L10.3 9.45l-7.72 7.72c-.78.78-.78 2.05 0 2.83L4 21.41c.39.39.9.59 1.41.59.51 0 1.02-.2 1.41-.59l7.78-7.78 2.81-2.81c.8-.78.8-2.07 0-2.86zM5.41 20L4 18.59l7.72-7.72 1.47 1.35L5.41 20z\"/>\n",
              "  </svg>\n",
              "      </button>\n",
              "      \n",
              "  <style>\n",
              "    .colab-df-container {\n",
              "      display:flex;\n",
              "      flex-wrap:wrap;\n",
              "      gap: 12px;\n",
              "    }\n",
              "\n",
              "    .colab-df-convert {\n",
              "      background-color: #E8F0FE;\n",
              "      border: none;\n",
              "      border-radius: 50%;\n",
              "      cursor: pointer;\n",
              "      display: none;\n",
              "      fill: #1967D2;\n",
              "      height: 32px;\n",
              "      padding: 0 0 0 0;\n",
              "      width: 32px;\n",
              "    }\n",
              "\n",
              "    .colab-df-convert:hover {\n",
              "      background-color: #E2EBFA;\n",
              "      box-shadow: 0px 1px 2px rgba(60, 64, 67, 0.3), 0px 1px 3px 1px rgba(60, 64, 67, 0.15);\n",
              "      fill: #174EA6;\n",
              "    }\n",
              "\n",
              "    [theme=dark] .colab-df-convert {\n",
              "      background-color: #3B4455;\n",
              "      fill: #D2E3FC;\n",
              "    }\n",
              "\n",
              "    [theme=dark] .colab-df-convert:hover {\n",
              "      background-color: #434B5C;\n",
              "      box-shadow: 0px 1px 3px 1px rgba(0, 0, 0, 0.15);\n",
              "      filter: drop-shadow(0px 1px 2px rgba(0, 0, 0, 0.3));\n",
              "      fill: #FFFFFF;\n",
              "    }\n",
              "  </style>\n",
              "\n",
              "      <script>\n",
              "        const buttonEl =\n",
              "          document.querySelector('#df-8c8cbbdb-e86b-4bd4-b76c-b90cbc25e7dc button.colab-df-convert');\n",
              "        buttonEl.style.display =\n",
              "          google.colab.kernel.accessAllowed ? 'block' : 'none';\n",
              "\n",
              "        async function convertToInteractive(key) {\n",
              "          const element = document.querySelector('#df-8c8cbbdb-e86b-4bd4-b76c-b90cbc25e7dc');\n",
              "          const dataTable =\n",
              "            await google.colab.kernel.invokeFunction('convertToInteractive',\n",
              "                                                     [key], {});\n",
              "          if (!dataTable) return;\n",
              "\n",
              "          const docLinkHtml = 'Like what you see? Visit the ' +\n",
              "            '<a target=\"_blank\" href=https://colab.research.google.com/notebooks/data_table.ipynb>data table notebook</a>'\n",
              "            + ' to learn more about interactive tables.';\n",
              "          element.innerHTML = '';\n",
              "          dataTable['output_type'] = 'display_data';\n",
              "          await google.colab.output.renderOutput(dataTable, element);\n",
              "          const docLink = document.createElement('div');\n",
              "          docLink.innerHTML = docLinkHtml;\n",
              "          element.appendChild(docLink);\n",
              "        }\n",
              "      </script>\n",
              "    </div>\n",
              "  </div>\n",
              "  "
            ]
          },
          "metadata": {},
          "execution_count": 34
        }
      ]
    },
    {
      "cell_type": "code",
      "source": [
        "df.shape"
      ],
      "metadata": {
        "colab": {
          "base_uri": "https://localhost:8080/"
        },
        "id": "u34OZVQzrBz7",
        "outputId": "8ec75abc-9273-4717-ddf3-774a36bacb53"
      },
      "execution_count": 35,
      "outputs": [
        {
          "output_type": "execute_result",
          "data": {
            "text/plain": [
              "(81450, 4)"
            ]
          },
          "metadata": {},
          "execution_count": 35
        }
      ]
    },
    {
      "cell_type": "code",
      "source": [
        "df.to_csv('text_with_embeddings.csv')"
      ],
      "metadata": {
        "id": "zgfPxjOjrIh1"
      },
      "execution_count": null,
      "outputs": []
    },
    {
      "cell_type": "code",
      "source": [],
      "metadata": {
        "id": "p5mFG6yRrQww"
      },
      "execution_count": null,
      "outputs": []
    }
  ]
}