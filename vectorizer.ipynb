{
 "cells": [
  {
   "cell_type": "code",
   "execution_count": 38,
   "id": "b466a193-4819-4305-838e-00bd12b7c957",
   "metadata": {
    "tags": []
   },
   "outputs": [],
   "source": [
    "import os\n",
    "import glob\n",
    "from PyPDF2 import PdfReader\n",
    "import pandas as pd\n",
    "import numpy as np\n",
    "from sentence_transformers import SentenceTransformer\n",
    "import chromadb\n",
    "from chromadb.utils import embedding_functions\n",
    "from tqdm import tqdm\n",
    "import re\n",
    "import torch\n",
    "import openai"
   ]
  },
  {
   "cell_type": "code",
   "execution_count": 40,
   "id": "c5a5a1e1-358e-4ca6-9ae8-49a00e105d9d",
   "metadata": {
    "tags": []
   },
   "outputs": [],
   "source": [
    "api_key = \"<key>\"\n",
    "openai.api_key = api_key"
   ]
  },
  {
   "cell_type": "code",
   "execution_count": 2,
   "id": "1f65f39a-a0ba-4eb4-b337-6fd6cec766f9",
   "metadata": {
    "tags": []
   },
   "outputs": [],
   "source": [
    "def filepathextractor(filetype=\"*.pdf\"):\n",
    "    file_paths = []\n",
    "    for root, dirs, files in os.walk(\".\"):\n",
    "        for path in glob.glob(os.path.join(root, filetype)):\n",
    "            file_paths.append(os.path.abspath(path))\n",
    "    return file_paths"
   ]
  },
  {
   "cell_type": "code",
   "execution_count": 3,
   "id": "f6439a5a-0056-4d34-84ba-7b847775c938",
   "metadata": {
    "tags": []
   },
   "outputs": [],
   "source": [
    "filepaths = filepathextractor()"
   ]
  },
  {
   "cell_type": "code",
   "execution_count": 4,
   "id": "93261754-8762-4e2c-86a0-6dae07c347e4",
   "metadata": {
    "tags": []
   },
   "outputs": [
    {
     "data": {
      "text/plain": [
       "['/app/Download/Indian Society British Empire.pdf',\n",
       " '/app/Download/Portuguese India.pdf',\n",
       " '/app/Download/Vijayanagara.pdf',\n",
       " '/app/Download/Rural Bengal.pdf',\n",
       " '/app/Download/Commercial Enterprise India.pdf',\n",
       " '/app/Download/Architecture Mughal  India.pdf',\n",
       " '/app/Download/Economy Modern India.pdf',\n",
       " '/app/Download/Ideologies of the Raj.pdf',\n",
       " '/app/Download/Women in Modern India.pdf',\n",
       " '/app/Download/Mughal Empire.pdf',\n",
       " '/app/Download/Bengal_India.pdf',\n",
       " '/app/Download/Socio-religious reform movements in British India.pdf',\n",
       " '/app/Download/Sikhs of Punjab.pdf',\n",
       " '/app/Download/Marathas 1600 1818.pdf',\n",
       " '/app/Download/Caste_Society_Politics_India.pdf',\n",
       " '/app/Download/Science, Technology and Medicine in Colonial India.pdf',\n",
       " '/app/Download/Architecture and Art of Southern India.pdf']"
      ]
     },
     "execution_count": 4,
     "metadata": {},
     "output_type": "execute_result"
    }
   ],
   "source": [
    "filepaths"
   ]
  },
  {
   "cell_type": "code",
   "execution_count": 5,
   "id": "10a17d01-3493-4611-b2fd-5f27f2bf3160",
   "metadata": {
    "tags": []
   },
   "outputs": [],
   "source": [
    "# Keeping only unicode characters\n",
    "def keep_unicode(text):\n",
    "    unicode_pattern = re.compile('[^\\u0000-\\uD7FF\\uE000-\\uFFFF]', flags=re.UNICODE)\n",
    "    return unicode_pattern.sub('', text)"
   ]
  },
  {
   "cell_type": "code",
   "execution_count": 6,
   "id": "4a0a76a4-69c2-4161-9526-15ff2f612e22",
   "metadata": {
    "tags": []
   },
   "outputs": [],
   "source": [
    "# Extracting text from pdfs and creating the dataframe\n",
    "def textdfcreator(filepaths):\n",
    "    df = pd.DataFrame(columns=['title', 'text', 'path'])\n",
    "    no_text_paths = []  # initialize list to store file paths with no extracted text\n",
    "    print(f\"Processed 0/{len(filepaths)} PDFs\", end=\"\\r\")\n",
    "    \n",
    "    for i, fpath in enumerate(filepaths):\n",
    "        main_text = ''\n",
    "        reader = PdfReader(fpath)\n",
    "        number_of_pages = len(reader.pages)\n",
    "        for j in range(number_of_pages):\n",
    "            page = reader.pages[j]\n",
    "            text = page.extract_text()\n",
    "            if text is not None:  # check if text was extracted\n",
    "                main_text += text\n",
    "            else:\n",
    "                print(f\"No text was extracted from {fpath}\")\n",
    "                no_text_paths.append(fpath)  # add file path to list of paths with no extracted text\n",
    "        df_row = {'title': os.path.basename(fpath),\n",
    "                  'text': main_text,\n",
    "                  'path': fpath}\n",
    "        df = pd.concat([df, pd.DataFrame(df_row, index=[0])], ignore_index=True)\n",
    "        print(f\"Processed {i+1}/{len(filepaths)} PDFs\", end=\"\\r\")\n",
    "    df['text'] = df['text'].apply(keep_unicode)\n",
    "    print(f\"\\nThe following files had no extracted text: {no_text_paths}\")\n",
    "    df = df.drop(df[df['text'].isnull()].index)\n",
    "    return df"
   ]
  },
  {
   "attachments": {},
   "cell_type": "markdown",
   "id": "d15afa85-1eaf-4c14-a1f0-2f1ff43f0508",
   "metadata": {},
   "source": [
    "`%store` – Show list of all variables and their current values\n",
    "`%store spam bar` – Store the current value of the variables spam and bar to disk\n",
    "`%store -d spam` – Remove the variable and its value from storage\n",
    "`%store -z` – Remove all variables from storage\n",
    "`%store -r` – Refresh all variables, aliases and directory history from store (overwrite current values)\n",
    "`%store -r spam bar` – Refresh specified variables and aliases from store (delete current variables)\n",
    "`%store foo >a.txt` – Store value of foo to new file a.txt\n",
    "`%store foo >>a.txt` – Append value of foo to file a.txt"
   ]
  },
  {
   "cell_type": "code",
   "execution_count": 7,
   "id": "830d5c93-d64b-4cc0-aed0-f2f0f1b0ca15",
   "metadata": {
    "tags": []
   },
   "outputs": [],
   "source": [
    "# Run only for new set of documents\n",
    "# df = textdfcreator(filepaths)"
   ]
  },
  {
   "cell_type": "code",
   "execution_count": 8,
   "id": "547dec96-780d-445b-91c7-577ca1abc4e5",
   "metadata": {
    "tags": []
   },
   "outputs": [
    {
     "name": "stdout",
     "output_type": "stream",
     "text": [
      "Stored variables and their in-db values:\n",
      "df             ->                                                 ti\n"
     ]
    }
   ],
   "source": [
    "%store"
   ]
  },
  {
   "cell_type": "code",
   "execution_count": 9,
   "id": "f4f03e54-d261-40a9-a25f-7daa0f0eff4b",
   "metadata": {
    "tags": []
   },
   "outputs": [],
   "source": [
    "%store -r"
   ]
  },
  {
   "cell_type": "code",
   "execution_count": 10,
   "id": "46c0cef4-899b-47d3-a040-c4a0011839c1",
   "metadata": {
    "tags": []
   },
   "outputs": [
    {
     "data": {
      "text/plain": [
       "(17, 3)"
      ]
     },
     "execution_count": 10,
     "metadata": {},
     "output_type": "execute_result"
    }
   ],
   "source": [
    "df.shape"
   ]
  },
  {
   "cell_type": "code",
   "execution_count": 11,
   "id": "af23c4fc-571e-4d42-9c77-38c10cda581c",
   "metadata": {
    "tags": []
   },
   "outputs": [
    {
     "data": {
      "text/html": [
       "<div>\n",
       "<style scoped>\n",
       "    .dataframe tbody tr th:only-of-type {\n",
       "        vertical-align: middle;\n",
       "    }\n",
       "\n",
       "    .dataframe tbody tr th {\n",
       "        vertical-align: top;\n",
       "    }\n",
       "\n",
       "    .dataframe thead th {\n",
       "        text-align: right;\n",
       "    }\n",
       "</style>\n",
       "<table border=\"1\" class=\"dataframe\">\n",
       "  <thead>\n",
       "    <tr style=\"text-align: right;\">\n",
       "      <th></th>\n",
       "      <th>title</th>\n",
       "      <th>text</th>\n",
       "      <th>path</th>\n",
       "    </tr>\n",
       "  </thead>\n",
       "  <tbody>\n",
       "    <tr>\n",
       "      <th>0</th>\n",
       "      <td>Indian Society British Empire.pdf</td>\n",
       "      <td>THE NEW CAMBRIDGE HISTORY\\nOF INDIA\\nIndian so...</td>\n",
       "      <td>/app/Download/Indian Society British Empire.pdf</td>\n",
       "    </tr>\n",
       "    <tr>\n",
       "      <th>1</th>\n",
       "      <td>Portuguese India.pdf</td>\n",
       "      <td>THE NEW CAMBRIDGE HISTORY\\nOF INDIA\\nThe Portu...</td>\n",
       "      <td>/app/Download/Portuguese India.pdf</td>\n",
       "    </tr>\n",
       "    <tr>\n",
       "      <th>2</th>\n",
       "      <td>Vijayanagara.pdf</td>\n",
       "      <td>THE NEW CAMBRIDGE HISTORY\\nOF INDIA\\nVijayanag...</td>\n",
       "      <td>/app/Download/Vijayanagara.pdf</td>\n",
       "    </tr>\n",
       "    <tr>\n",
       "      <th>3</th>\n",
       "      <td>Rural Bengal.pdf</td>\n",
       "      <td>The last two decades have witnessed 'the retur...</td>\n",
       "      <td>/app/Download/Rural Bengal.pdf</td>\n",
       "    </tr>\n",
       "    <tr>\n",
       "      <th>4</th>\n",
       "      <td>Commercial Enterprise India.pdf</td>\n",
       "      <td>European traders first appeared in India at th...</td>\n",
       "      <td>/app/Download/Commercial Enterprise India.pdf</td>\n",
       "    </tr>\n",
       "  </tbody>\n",
       "</table>\n",
       "</div>"
      ],
      "text/plain": [
       "                               title   \n",
       "0  Indian Society British Empire.pdf  \\\n",
       "1               Portuguese India.pdf   \n",
       "2                   Vijayanagara.pdf   \n",
       "3                   Rural Bengal.pdf   \n",
       "4    Commercial Enterprise India.pdf   \n",
       "\n",
       "                                                text   \n",
       "0  THE NEW CAMBRIDGE HISTORY\\nOF INDIA\\nIndian so...  \\\n",
       "1  THE NEW CAMBRIDGE HISTORY\\nOF INDIA\\nThe Portu...   \n",
       "2  THE NEW CAMBRIDGE HISTORY\\nOF INDIA\\nVijayanag...   \n",
       "3  The last two decades have witnessed 'the retur...   \n",
       "4  European traders first appeared in India at th...   \n",
       "\n",
       "                                              path  \n",
       "0  /app/Download/Indian Society British Empire.pdf  \n",
       "1               /app/Download/Portuguese India.pdf  \n",
       "2                   /app/Download/Vijayanagara.pdf  \n",
       "3                   /app/Download/Rural Bengal.pdf  \n",
       "4    /app/Download/Commercial Enterprise India.pdf  "
      ]
     },
     "execution_count": 11,
     "metadata": {},
     "output_type": "execute_result"
    }
   ],
   "source": [
    "df.head()"
   ]
  },
  {
   "cell_type": "code",
   "execution_count": 11,
   "id": "44ccf5f1-3ab0-4e78-8dfe-78f3ff5d39b7",
   "metadata": {
    "tags": []
   },
   "outputs": [],
   "source": [
    "df.to_csv('history_of_india.csv')"
   ]
  },
  {
   "cell_type": "code",
   "execution_count": 12,
   "id": "644e6d29-5fdb-4867-9b54-d63e15086689",
   "metadata": {
    "tags": []
   },
   "outputs": [
    {
     "data": {
      "text/plain": [
       "Index(['title', 'text', 'path'], dtype='object')"
      ]
     },
     "execution_count": 12,
     "metadata": {},
     "output_type": "execute_result"
    }
   ],
   "source": [
    "df.columns"
   ]
  },
  {
   "cell_type": "code",
   "execution_count": 13,
   "id": "66784862-a3f4-4ce4-ab44-a94c5c241f92",
   "metadata": {
    "tags": []
   },
   "outputs": [],
   "source": [
    "# compile regular expressions\n",
    "sentence_end_re = re.compile('[.?!][\\'\"\\)\\]]*$|[.?!]\\n')\n",
    "sentence_start_re = re.compile('^[A-Z][a-z]*|[\\'\"\\(\\[\\n]')\n",
    "\n",
    "# define a function to split text into chunks of 190 words each\n",
    "def split_text(text):\n",
    "    words = text.split()\n",
    "    chunks = []\n",
    "    start_idx = 0\n",
    "    while start_idx < len(words):\n",
    "        end_idx = min(start_idx + 190, len(words))\n",
    "        chunk = ' '.join(words[i] for i in range(start_idx, end_idx))\n",
    "        # check if the chunk ends with a full sentence\n",
    "        if sentence_end_re.search(chunk):\n",
    "            chunks.append(chunk)\n",
    "            start_idx = end_idx\n",
    "        else:\n",
    "            # if the chunk doesn't end with a full sentence, expand it to the next sentence\n",
    "            while end_idx < len(words):\n",
    "                if sentence_start_re.search(words[end_idx]):\n",
    "                    chunk = ' '.join(words[i] for i in range(start_idx, end_idx+1))\n",
    "                    chunks.append(chunk)\n",
    "                    start_idx = end_idx + 1\n",
    "                    break\n",
    "                else:\n",
    "                    end_idx += 1\n",
    "            else:\n",
    "                # if no sentence boundary is found, add the remaining words as a chunk\n",
    "                chunk = ' '.join(words[i] for i in range(start_idx, end_idx))\n",
    "                chunks.append(chunk)\n",
    "                start_idx = end_idx\n",
    "    return chunks"
   ]
  },
  {
   "cell_type": "code",
   "execution_count": 14,
   "id": "37c13aa3-5ff1-4d1b-8d8f-ebaf2f45a4a7",
   "metadata": {
    "tags": []
   },
   "outputs": [],
   "source": [
    "# apply the split_text function to the text column\n",
    "df['text'] = df['text'].apply(split_text)"
   ]
  },
  {
   "cell_type": "code",
   "execution_count": 15,
   "id": "98bf2f7f-f842-4a4a-ae64-67f307cb284b",
   "metadata": {
    "tags": []
   },
   "outputs": [],
   "source": [
    "# flatten the list of chunks and remove leading/trailing whitespace characters and '\\n'\n",
    "df['text'] = df['text'].apply(lambda x: [s.strip().replace('\\n', '') for s in x])"
   ]
  },
  {
   "cell_type": "code",
   "execution_count": 16,
   "id": "26f47405-9d89-4984-ac38-9f94ebaf64b4",
   "metadata": {
    "tags": []
   },
   "outputs": [],
   "source": [
    "# create new rows with the split text\n",
    "df = df.explode('text').reset_index(drop=True)"
   ]
  },
  {
   "cell_type": "code",
   "execution_count": 17,
   "id": "9732e4d4-9408-4752-91fe-0e7b4078f6f7",
   "metadata": {
    "tags": []
   },
   "outputs": [
    {
     "data": {
      "text/plain": [
       "(7510, 3)"
      ]
     },
     "execution_count": 17,
     "metadata": {},
     "output_type": "execute_result"
    }
   ],
   "source": [
    "df.shape"
   ]
  },
  {
   "cell_type": "code",
   "execution_count": 18,
   "id": "ee3a2868-9b33-43dc-bf8b-60b39228564a",
   "metadata": {
    "tags": []
   },
   "outputs": [],
   "source": [
    "# Dropping empty text rows\n",
    "df = df.drop(df[df['text'].isnull()].index)"
   ]
  },
  {
   "cell_type": "code",
   "execution_count": 19,
   "id": "f07c46d0-4158-4bf4-8a09-6055a406d703",
   "metadata": {
    "tags": []
   },
   "outputs": [
    {
     "data": {
      "text/plain": [
       "(7509, 3)"
      ]
     },
     "execution_count": 19,
     "metadata": {},
     "output_type": "execute_result"
    }
   ],
   "source": [
    "df.shape"
   ]
  },
  {
   "cell_type": "code",
   "execution_count": 20,
   "id": "5146bc7e-efda-48ff-9c04-e2f76357c9c6",
   "metadata": {
    "tags": []
   },
   "outputs": [],
   "source": [
    "df.to_csv('processed_history_of_india.csv')"
   ]
  },
  {
   "cell_type": "code",
   "execution_count": 25,
   "id": "3fad8eb8-cdcd-428d-aa0c-2868de59642c",
   "metadata": {
    "tags": []
   },
   "outputs": [],
   "source": [
    "sentences = df.text.to_list()"
   ]
  },
  {
   "cell_type": "code",
   "execution_count": 26,
   "id": "fab42ab7-188a-4c35-98e2-0f7aa3897acf",
   "metadata": {
    "tags": []
   },
   "outputs": [
    {
     "data": {
      "text/plain": [
       "7509"
      ]
     },
     "execution_count": 26,
     "metadata": {},
     "output_type": "execute_result"
    }
   ],
   "source": [
    "len(sentences)"
   ]
  },
  {
   "cell_type": "code",
   "execution_count": 29,
   "id": "42feec99-4de5-4c9a-a620-427ea9b56e28",
   "metadata": {
    "tags": []
   },
   "outputs": [],
   "source": [
    "model = SentenceTransformer('all-MiniLM-L6-v2')"
   ]
  },
  {
   "cell_type": "code",
   "execution_count": 30,
   "id": "46e028c2-7b4e-4616-a09f-1667530ffc2f",
   "metadata": {
    "tags": []
   },
   "outputs": [],
   "source": [
    "with torch.no_grad():\n",
    "    embeddings = model.encode(sentences, device='cuda')"
   ]
  },
  {
   "cell_type": "code",
   "execution_count": 31,
   "id": "4f1a860a-6977-4649-81ac-2c2c870965ee",
   "metadata": {
    "tags": []
   },
   "outputs": [
    {
     "data": {
      "text/plain": [
       "7509"
      ]
     },
     "execution_count": 31,
     "metadata": {},
     "output_type": "execute_result"
    }
   ],
   "source": [
    "len(embeddings)"
   ]
  },
  {
   "cell_type": "code",
   "execution_count": 33,
   "id": "c0375041-9455-4322-a552-34f6b817d011",
   "metadata": {
    "tags": []
   },
   "outputs": [],
   "source": [
    "df['embeddings'] = list(embeddings)"
   ]
  },
  {
   "cell_type": "code",
   "execution_count": 34,
   "id": "47394b28-d9d1-4afc-ba92-556f825a2323",
   "metadata": {
    "tags": []
   },
   "outputs": [],
   "source": [
    "df.to_pickle('history_india.pkl.gz', compression='gzip')"
   ]
  },
  {
   "cell_type": "code",
   "execution_count": 35,
   "id": "f3086a1b-3f6d-4241-bdeb-5db8a11b523f",
   "metadata": {
    "tags": []
   },
   "outputs": [],
   "source": [
    "df_final = df.copy()"
   ]
  },
  {
   "cell_type": "code",
   "execution_count": 36,
   "id": "22faa563-a7d4-460a-88b1-2a0dd5ed3489",
   "metadata": {
    "tags": []
   },
   "outputs": [
    {
     "name": "stdout",
     "output_type": "stream",
     "text": [
      "Stored 'df_final' (DataFrame)\n"
     ]
    }
   ],
   "source": [
    "%store df_final"
   ]
  },
  {
   "cell_type": "code",
   "execution_count": 37,
   "id": "4ab3656f-3e85-4528-806d-422906a5fc7b",
   "metadata": {
    "tags": []
   },
   "outputs": [
    {
     "name": "stdout",
     "output_type": "stream",
     "text": [
      "Stored variables and their in-db values:\n",
      "df                   ->                                                 ti\n",
      "df_final             ->                                            title  \n"
     ]
    }
   ],
   "source": [
    "%store"
   ]
  },
  {
   "cell_type": "code",
   "execution_count": 41,
   "id": "febf0eb2-0eb9-4bfb-a17b-1bd31575661c",
   "metadata": {
    "tags": []
   },
   "outputs": [],
   "source": [
    "# Load pickle from disk\n",
    "df = pd.read_pickle('history_india.pkl.gz', compression='gzip')"
   ]
  },
  {
   "cell_type": "code",
   "execution_count": 42,
   "id": "592c658e-a657-4e20-b200-e45043e9268d",
   "metadata": {
    "tags": []
   },
   "outputs": [
    {
     "data": {
      "text/html": [
       "<div>\n",
       "<style scoped>\n",
       "    .dataframe tbody tr th:only-of-type {\n",
       "        vertical-align: middle;\n",
       "    }\n",
       "\n",
       "    .dataframe tbody tr th {\n",
       "        vertical-align: top;\n",
       "    }\n",
       "\n",
       "    .dataframe thead th {\n",
       "        text-align: right;\n",
       "    }\n",
       "</style>\n",
       "<table border=\"1\" class=\"dataframe\">\n",
       "  <thead>\n",
       "    <tr style=\"text-align: right;\">\n",
       "      <th></th>\n",
       "      <th>title</th>\n",
       "      <th>text</th>\n",
       "      <th>path</th>\n",
       "      <th>embeddings</th>\n",
       "    </tr>\n",
       "  </thead>\n",
       "  <tbody>\n",
       "    <tr>\n",
       "      <th>0</th>\n",
       "      <td>Indian Society British Empire.pdf</td>\n",
       "      <td>THE NEW CAMBRIDGE HISTORY OF INDIA Indian soci...</td>\n",
       "      <td>/app/Download/Indian Society British Empire.pdf</td>\n",
       "      <td>[-0.041346293, -0.06831048, 0.00954161, -0.028...</td>\n",
       "    </tr>\n",
       "    <tr>\n",
       "      <th>1</th>\n",
       "      <td>Indian Society British Empire.pdf</td>\n",
       "      <td>four parts planned are as follows: I The Mugha...</td>\n",
       "      <td>/app/Download/Indian Society British Empire.pdf</td>\n",
       "      <td>[-0.03494044, -0.0021976398, -0.0027277428, 0....</td>\n",
       "    </tr>\n",
       "    <tr>\n",
       "      <th>2</th>\n",
       "      <td>Indian Society British Empire.pdf</td>\n",
       "      <td>C. A. Indian society and the making of the Bri...</td>\n",
       "      <td>/app/Download/Indian Society British Empire.pdf</td>\n",
       "      <td>[-0.027762491, -0.038931817, -0.036458507, -0....</td>\n",
       "    </tr>\n",
       "    <tr>\n",
       "      <th>3</th>\n",
       "      <td>Indian Society British Empire.pdf</td>\n",
       "      <td>The first age of colonialism in India 200 Glos...</td>\n",
       "      <td>/app/Download/Indian Society British Empire.pdf</td>\n",
       "      <td>[-0.036183123, -0.07188498, 0.014481022, -0.04...</td>\n",
       "    </tr>\n",
       "    <tr>\n",
       "      <th>4</th>\n",
       "      <td>Indian Society British Empire.pdf</td>\n",
       "      <td>History was a great success, and it was follow...</td>\n",
       "      <td>/app/Download/Indian Society British Empire.pdf</td>\n",
       "      <td>[-0.041959874, -0.10230567, -0.0008908011, -0....</td>\n",
       "    </tr>\n",
       "  </tbody>\n",
       "</table>\n",
       "</div>"
      ],
      "text/plain": [
       "                               title   \n",
       "0  Indian Society British Empire.pdf  \\\n",
       "1  Indian Society British Empire.pdf   \n",
       "2  Indian Society British Empire.pdf   \n",
       "3  Indian Society British Empire.pdf   \n",
       "4  Indian Society British Empire.pdf   \n",
       "\n",
       "                                                text   \n",
       "0  THE NEW CAMBRIDGE HISTORY OF INDIA Indian soci...  \\\n",
       "1  four parts planned are as follows: I The Mugha...   \n",
       "2  C. A. Indian society and the making of the Bri...   \n",
       "3  The first age of colonialism in India 200 Glos...   \n",
       "4  History was a great success, and it was follow...   \n",
       "\n",
       "                                              path   \n",
       "0  /app/Download/Indian Society British Empire.pdf  \\\n",
       "1  /app/Download/Indian Society British Empire.pdf   \n",
       "2  /app/Download/Indian Society British Empire.pdf   \n",
       "3  /app/Download/Indian Society British Empire.pdf   \n",
       "4  /app/Download/Indian Society British Empire.pdf   \n",
       "\n",
       "                                          embeddings  \n",
       "0  [-0.041346293, -0.06831048, 0.00954161, -0.028...  \n",
       "1  [-0.03494044, -0.0021976398, -0.0027277428, 0....  \n",
       "2  [-0.027762491, -0.038931817, -0.036458507, -0....  \n",
       "3  [-0.036183123, -0.07188498, 0.014481022, -0.04...  \n",
       "4  [-0.041959874, -0.10230567, -0.0008908011, -0....  "
      ]
     },
     "execution_count": 42,
     "metadata": {},
     "output_type": "execute_result"
    }
   ],
   "source": [
    "df.head()"
   ]
  },
  {
   "cell_type": "code",
   "execution_count": 43,
   "id": "03520501-c290-4759-a20e-ed4ddd8e8d42",
   "metadata": {
    "tags": []
   },
   "outputs": [
    {
     "name": "stderr",
     "output_type": "stream",
     "text": [
      "Using embedded DuckDB with persistence: data will be stored in: embedDB\n"
     ]
    }
   ],
   "source": [
    "from chromadb.config import Settings\n",
    "client = chromadb.Client(Settings(\n",
    "    chroma_db_impl=\"duckdb+parquet\",\n",
    "    persist_directory=\"embedDB\" # Optional, defaults to .chromadb/ in the current directory\n",
    "))"
   ]
  },
  {
   "cell_type": "code",
   "execution_count": 44,
   "id": "e01eb8ea-3b9b-4d0e-8276-18b6e394c64d",
   "metadata": {
    "tags": []
   },
   "outputs": [
    {
     "name": "stderr",
     "output_type": "stream",
     "text": [
      "No embedding_function provided, using default embedding function: SentenceTransformerEmbeddingFunction\n"
     ]
    }
   ],
   "source": [
    "# Get a collection object from an existing collection, by name. If it doesn't exist, create it.\n",
    "collection = client.get_or_create_collection(name=\"history_of_india\")"
   ]
  },
  {
   "cell_type": "code",
   "execution_count": 45,
   "id": "51e81b53-2f84-407e-8c5d-95a958c70562",
   "metadata": {
    "tags": []
   },
   "outputs": [],
   "source": [
    "# Preparing data for chromadb function\n",
    "def prep_data(df, text_source_column = 'text', embeddings_source = 'embeddings', columns_meta=['title','path']):\n",
    "    #generating docs\n",
    "    docs = df[text_source_column].to_list()\n",
    "    \n",
    "    #Generating ids\n",
    "    ids = df[text_source_column].index.to_list()\n",
    "    ids = [f'id{i}' for i in ids]\n",
    "    \n",
    "    #generate embeddings list\n",
    "    embeddings = df[embeddings_source].to_list()\n",
    "    \n",
    "    # convert the dataframe to a dictionary\n",
    "    data_dict = df[columns_meta].to_dict('records')\n",
    "    # create a list of dictionaries with only the columns you need\n",
    "    metadata = [{ columns_meta[0]: row[columns_meta[0]], columns_meta[1]: row[columns_meta[1]] } for row in data_dict]\n",
    "    return docs, embeddings, metadata, ids"
   ]
  },
  {
   "cell_type": "code",
   "execution_count": 46,
   "id": "d754cc2a-d2bb-4b06-b4d5-cc494ff11bba",
   "metadata": {
    "tags": []
   },
   "outputs": [],
   "source": [
    "docs, embeddings, metadata, ids = prep_data(df)"
   ]
  },
  {
   "cell_type": "code",
   "execution_count": 47,
   "id": "b9b87100-8dea-488c-8b73-629c4c696c9a",
   "metadata": {
    "tags": []
   },
   "outputs": [],
   "source": [
    "collection.add(\n",
    "    documents=docs,\n",
    "    embeddings=embeddings,\n",
    "    metadatas=metadata,\n",
    "    ids=ids\n",
    ")"
   ]
  },
  {
   "cell_type": "code",
   "execution_count": null,
   "id": "b488ceb5-a97b-4079-84a7-8e48cf61aa8d",
   "metadata": {
    "tags": []
   },
   "outputs": [],
   "source": [
    "client.persist()"
   ]
  },
  {
   "cell_type": "code",
   "execution_count": 49,
   "id": "98d051a9-494b-4045-a3ce-db22ac23b91e",
   "metadata": {
    "tags": []
   },
   "outputs": [
    {
     "data": {
      "text/plain": [
       "1683926171010016466000"
      ]
     },
     "execution_count": 49,
     "metadata": {},
     "output_type": "execute_result"
    }
   ],
   "source": [
    "client.heartbeat()"
   ]
  },
  {
   "cell_type": "code",
   "execution_count": 50,
   "id": "39a896c1-733d-4f11-aef1-e5555664c3c9",
   "metadata": {
    "tags": []
   },
   "outputs": [],
   "source": [
    "# Function to search results\n",
    "def v_search(query_text, num=5):\n",
    "    # Get a collection object from an existing collection, by name. If it doesn't exist, create it.\n",
    "    collection = client.get_or_create_collection(name=\"history_of_india\")\n",
    "    resp = collection.query(\n",
    "    query_texts=[query_text],\n",
    "    n_results=num,  \n",
    "    )\n",
    "    rep = [''.join(sent) for sent in resp['documents']][0]\n",
    "    return rep"
   ]
  },
  {
   "cell_type": "code",
   "execution_count": 74,
   "id": "e391579f-c424-4b7d-9696-bc442947879b",
   "metadata": {
    "tags": []
   },
   "outputs": [],
   "source": [
    "question = \"who was abdali\""
   ]
  },
  {
   "cell_type": "code",
   "execution_count": 78,
   "id": "2b7674b3-cdaf-44ac-8379-ca868f6abdb2",
   "metadata": {
    "tags": []
   },
   "outputs": [],
   "source": [
    "resp = collection.query(\n",
    "    query_texts=[question],\n",
    "    n_results=2,  \n",
    ")"
   ]
  },
  {
   "cell_type": "code",
   "execution_count": 79,
   "id": "a691b3fb-7f11-417f-a4ff-6c6a9a2486ab",
   "metadata": {
    "tags": []
   },
   "outputs": [],
   "source": [
    "rep = [''.join(sent) for sent in resp['documents']][0]"
   ]
  },
  {
   "cell_type": "code",
   "execution_count": 80,
   "id": "8cc7be7e-0b27-400c-9e95-65f93aa447ab",
   "metadata": {
    "tags": []
   },
   "outputs": [
    {
     "data": {
      "text/plain": [
       "\"into idiomatic Urdu. The teachings of Shah Wali 'Ullah and the Delhi School of Islamic thought plus the doctrines of al-Wahhab of Sa'udi Arabia constituted a basic frame of reference for socio-religious movements among South Asian Muslims, as exempli\\xad fied by the Fara'izis of Bengal. Shari'at 'Ullah, the founder of the Fara'izis, was born in 1781 in th e village of Shmail in eastern Bengal. He received his elementary education in Calcutta and Hughly. In 1799, at the age of eighteen, Shari'at 'Ullah left for Mecca. The first two years he studied under an emigrant Bengali, Maulana Murad, and for the next fourteen years became the student of the Hanafi scholar, Tahir Sombal. Shari'at 'Ullah was also initiated into the Qadiriyah order of Sufism during this period. In addition he spent two years at al-Azhar University in Cairo. When he returned to Bengal in 1818 as a scholar of Islamic law and philosophy,1 he began preaching, but soon returned to Mecca, where he obtained the formal permission of his teacher to initiate his own religious campaign. After returning to Bengal, probably in 1820 or early 1821, he quickly attracted adherents among the peasants of east\\xad ern Bengal.doctrine. Gradually he committed more of his time to the Samaj and, in 1875, Agnihotri became an honorary missionary of the Samaj.20 Five years later, he travelled to Calcutta where he was ordained as one of the first missionaries of the newly established Sadharan Brahmo Samaj. Pandit Agnihotri met Swami Dayananda in 1877 and, although many of their ideas were compatible, they clashed with each other on a personal basis. Afterwards Agnihotri repeatedly attacked Dayananda and the Arya Samaj. Writing in Hindi, Urdu, and English, Agnihotri borrowed criticism from European scholars to reject Dayananda's interpretation of the Vedas. Aryas replied with a stream of tracts condemning Agnihotri, first as a Brahmo, and later as leader of his own religious movement. Pandit Agnihotri became increasingly involved in the work of the Brahmo Samaj. He took a modified Brahmo form of sanyds on 20 December 1882 and changed his name to Satyananda Agnihotri. As a full-time practitioner of religion, Agnihotri left his post as drawing master, but still retained his married life. Friction developed within the Brahmo Samaj and doubts in the Pandit's own mind so that in 1886 he resigned from the Punjab\""
      ]
     },
     "execution_count": 80,
     "metadata": {},
     "output_type": "execute_result"
    }
   ],
   "source": [
    "rep"
   ]
  },
  {
   "cell_type": "code",
   "execution_count": 81,
   "id": "f9adc225-3b82-49c3-a15e-7c44b5522e55",
   "metadata": {
    "tags": []
   },
   "outputs": [
    {
     "data": {
      "text/plain": [
       "\"Summarize answer to following question: who was abdali, from following response: into idiomatic Urdu. The teachings of Shah Wali 'Ullah and the Delhi School of Islamic thought plus the doctrines of al-Wahhab of Sa'udi Arabia constituted a basic frame of reference for socio-religious movements among South Asian Muslims, as exempli\\xad fied by the Fara'izis of Bengal. Shari'at 'Ullah, the founder of the Fara'izis, was born in 1781 in th e village of Shmail in eastern Bengal. He received his elementary education in Calcutta and Hughly. In 1799, at the age of eighteen, Shari'at 'Ullah left for Mecca. The first two years he studied under an emigrant Bengali, Maulana Murad, and for the next fourteen years became the student of the Hanafi scholar, Tahir Sombal. Shari'at 'Ullah was also initiated into the Qadiriyah order of Sufism during this period. In addition he spent two years at al-Azhar University in Cairo. When he returned to Bengal in 1818 as a scholar of Islamic law and philosophy,1 he began preaching, but soon returned to Mecca, where he obtained the formal permission of his teacher to initiate his own religious campaign. After returning to Bengal, probably in 1820 or early 1821, he quickly attracted adherents among the peasants of east\\xad ern Bengal.doctrine. Gradually he committed more of his time to the Samaj and, in 1875, Agnihotri became an honorary missionary of the Samaj.20 Five years later, he travelled to Calcutta where he was ordained as one of the first missionaries of the newly established Sadharan Brahmo Samaj. Pandit Agnihotri met Swami Dayananda in 1877 and, although many of their ideas were compatible, they clashed with each other on a personal basis. Afterwards Agnihotri repeatedly attacked Dayananda and the Arya Samaj. Writing in Hindi, Urdu, and English, Agnihotri borrowed criticism from European scholars to reject Dayananda's interpretation of the Vedas. Aryas replied with a stream of tracts condemning Agnihotri, first as a Brahmo, and later as leader of his own religious movement. Pandit Agnihotri became increasingly involved in the work of the Brahmo Samaj. He took a modified Brahmo form of sanyds on 20 December 1882 and changed his name to Satyananda Agnihotri. As a full-time practitioner of religion, Agnihotri left his post as drawing master, but still retained his married life. Friction developed within the Brahmo Samaj and doubts in the Pandit's own mind so that in 1886 he resigned from the Punjab\""
      ]
     },
     "execution_count": 81,
     "metadata": {},
     "output_type": "execute_result"
    }
   ],
   "source": [
    "query = f\"Summarize answer to following question: {question}, from following response: {rep}\"\n",
    "query"
   ]
  },
  {
   "cell_type": "code",
   "execution_count": 83,
   "id": "acd4e143-e03e-4db3-9f2c-474f41cffb06",
   "metadata": {
    "tags": []
   },
   "outputs": [],
   "source": [
    "completion = openai.ChatCompletion.create(\n",
    "  model=\"gpt-3.5-turbo\",\n",
    "  messages=[\n",
    "    {\"role\": \"user\", \"content\": query}\n",
    "  ]\n",
    ")"
   ]
  },
  {
   "cell_type": "code",
   "execution_count": 84,
   "id": "dc57e029-5863-4ae2-94e6-3fd7e6c821cd",
   "metadata": {
    "tags": []
   },
   "outputs": [
    {
     "name": "stdout",
     "output_type": "stream",
     "text": [
      "The answer to the question is not mentioned in the provided response.\n"
     ]
    }
   ],
   "source": [
    "print(completion.choices[0].message['content'])"
   ]
  }
 ],
 "metadata": {
  "kernelspec": {
   "display_name": "Python 3 (ipykernel)",
   "language": "python",
   "name": "python3"
  },
  "language_info": {
   "codemirror_mode": {
    "name": "ipython",
    "version": 3
   },
   "file_extension": ".py",
   "mimetype": "text/x-python",
   "name": "python",
   "nbconvert_exporter": "python",
   "pygments_lexer": "ipython3",
   "version": "3.10.6"
  }
 },
 "nbformat": 4,
 "nbformat_minor": 5
}
